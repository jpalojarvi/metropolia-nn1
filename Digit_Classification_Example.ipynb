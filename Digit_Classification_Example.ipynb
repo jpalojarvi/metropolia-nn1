{
 "cells": [
  {
   "cell_type": "markdown",
   "metadata": {
    "id": "XApp_DwgKge3"
   },
   "source": [
    "# Classifying digits: the first example\n",
    "\n",
    "The data in this example consists of 28 x 28 black and white images of handwritten digits; the dataset is directly available with Keras. The first code cell below downloads the contents into four separate NumPy tensors: image data and labels for both train and test sets."
   ]
  },
  {
   "cell_type": "code",
   "execution_count": 23,
   "metadata": {
    "colab": {
     "base_uri": "https://localhost:8080/"
    },
    "id": "wJlo3bexAjdF",
    "outputId": "ffd71e21-f01b-4d31-cc91-cc8fa3f7faf8"
   },
   "outputs": [],
   "source": [
    "import tensorflow as tf\n",
    "\n",
    "(train_images, train_labels), (test_images, test_labels) = tf.keras.datasets.mnist.load_data()"
   ]
  },
  {
   "cell_type": "markdown",
   "metadata": {
    "id": "urvOQZLmL1Iw"
   },
   "source": [
    "The next code cell shows the shape and rank of each of the four tensors. For example, `train_images` is a tensor of rank 3 having containing the data of 60000 training images, each being represented by 28 x 28 pixel values (integer values ranging from 0 to 255). The tensor `train_labels` contains the true labels (integer values between 0 and 9) for each training sample. \n",
    "\n",
    "The test set contains an additional 10000 images (data and labels) for testing the model."
   ]
  },
  {
   "cell_type": "code",
   "execution_count": 24,
   "metadata": {
    "colab": {
     "base_uri": "https://localhost:8080/"
    },
    "id": "IHm99ReqALtl",
    "outputId": "47d93174-2a4a-4df5-fba9-10c9d96ab95a"
   },
   "outputs": [
    {
     "name": "stdout",
     "output_type": "stream",
     "text": [
      "Train_data: tensor of shape (60000, 28, 28) and rank 3\n",
      "Train_labels: tensor of shape (60000,) and rank 1\n",
      "Test_data: tensor of shape (10000, 28, 28) and rank 3\n",
      "Test_labels: tensor of shape (10000,) and rank 1\n"
     ]
    }
   ],
   "source": [
    "print('Train_data: tensor of shape',train_images.shape,'and rank',train_images.ndim)\n",
    "print('Train_labels: tensor of shape',train_labels.shape,'and rank',train_labels.ndim)\n",
    "print('Test_data: tensor of shape',test_images.shape,'and rank',test_images.ndim)\n",
    "print('Test_labels: tensor of shape',test_labels.shape,'and rank',test_labels.ndim)"
   ]
  },
  {
   "cell_type": "markdown",
   "metadata": {
    "id": "9-YI-s12NfSt"
   },
   "source": [
    "To see what the data looks like, the following code cell shows how to use the Matplotlib library to generate a plot of one of the training samples."
   ]
  },
  {
   "cell_type": "code",
   "execution_count": 25,
   "metadata": {
    "colab": {
     "base_uri": "https://localhost:8080/",
     "height": 284
    },
    "id": "h5zzb2qZDwLT",
    "outputId": "f1a4f56e-f520-448c-f95d-85c48ebf8615"
   },
   "outputs": [
    {
     "data": {
      "image/png": "[encoded data removed]",
      "text/plain": [
       "<Figure size 432x288 with 1 Axes>"
      ]
     },
     "metadata": {
      "needs_background": "light"
     },
     "output_type": "display_data"
    },
    {
     "name": "stdout",
     "output_type": "stream",
     "text": [
      "True label = 5\n"
     ]
    }
   ],
   "source": [
    "import matplotlib.pyplot as plt\n",
    "%matplotlib inline\n",
    "\n",
    "sample_number = 0\n",
    "image = train_images[sample_number]\n",
    "plt.imshow(image, cmap='gray')\n",
    "plt.show()\n",
    "\n",
    "print('True label =',train_labels[sample_number])"
   ]
  },
  {
   "cell_type": "markdown",
   "metadata": {
    "id": "0pzeztjbN7oO"
   },
   "source": [
    "In the following, the data is subjected to some simple preprocessing. First, each sample is converted from the original 2D form of 28 x 28 integers to an 1D form of 28 $\\cdot$ 28 = 784 integers in a process called *flattening*. Finally, all the entries of the tensors are normalized by dividing by 255 for numerical convenience."
   ]
  },
  {
   "cell_type": "code",
   "execution_count": 26,
   "metadata": {
    "id": "Go_77Of8AjdM"
   },
   "outputs": [],
   "source": [
    "train_data = train_images.reshape((60000,28*28))\n",
    "train_data = train_data.astype('float32')\n",
    "train_data /= 255\n",
    "\n",
    "test_data = test_images.reshape((10000,28*28))\n",
    "test_data = test_data.astype('float32')\n",
    "test_data /= 255"
   ]
  },
  {
   "cell_type": "markdown",
   "metadata": {
    "id": "3DGjWePVQC6E"
   },
   "source": [
    "The labels need to be preprocessed as well. The routine `to_categorical` provided by Keras transfers the integer labels to the one-hot form of 1D arrays having 10 elements; the element corresponding to the label has the value 1, and all the remaining 9 elements have the value zero."
   ]
  },
  {
   "cell_type": "code",
   "execution_count": 27,
   "metadata": {
    "id": "7MerjQ9ZAGru"
   },
   "outputs": [],
   "source": [
    "train_labels = tf.keras.utils.to_categorical(train_labels)\n",
    "test_labels = tf.keras.utils.to_categorical(test_labels)"
   ]
  },
  {
   "cell_type": "markdown",
   "metadata": {
    "id": "hpu8VHueR4vl"
   },
   "source": [
    "The form of the new labels are shown below: the label corresponding to the first training sample (index 0) is five."
   ]
  },
  {
   "cell_type": "code",
   "execution_count": 28,
   "metadata": {
    "colab": {
     "base_uri": "https://localhost:8080/"
    },
    "id": "d9a3WDPfHOzm",
    "outputId": "029f3cb9-173c-4fb4-bbe0-3a03e3f4a4de"
   },
   "outputs": [
    {
     "data": {
      "text/plain": [
       "array([0., 0., 0., 0., 0., 1., 0., 0., 0., 0.], dtype=float32)"
      ]
     },
     "execution_count": 28,
     "metadata": {},
     "output_type": "execute_result"
    }
   ],
   "source": [
    "train_labels[0]"
   ]
  },
  {
   "cell_type": "markdown",
   "metadata": {
    "id": "GLb1CS_3SQ7D"
   },
   "source": [
    "The following code cell creates the actual model. This particular neural network consists of two hidden layers: the first has 256 and the second 128 neurons, both have ReLU activation functions. Note that the shape of the input samples needs to be specified for the first layer.\n",
    "\n",
    "The third layer is the output layer, which consists of 10 numbers corresponding to the probability value for each digit in this multiclass classification problem. The `softmax` activation function ensures that these 10 numbers are all between 0 and 1 and their sum is 1."
   ]
  },
  {
   "cell_type": "code",
   "execution_count": 29,
   "metadata": {
    "colab": {
     "base_uri": "https://localhost:8080/"
    },
    "id": "Eu3F5Q9aAjdN",
    "outputId": "4562b553-be92-494c-e61c-57d68a6cc6ce"
   },
   "outputs": [
    {
     "name": "stdout",
     "output_type": "stream",
     "text": [
      "Model: \"sequential_3\"\n",
      "_________________________________________________________________\n",
      " Layer (type)                Output Shape              Param #   \n",
      "=================================================================\n",
      " dense_9 (Dense)             (None, 256)               200960    \n",
      "                                                                 \n",
      " dense_10 (Dense)            (None, 128)               32896     \n",
      "                                                                 \n",
      " dense_11 (Dense)            (None, 10)                1290      \n",
      "                                                                 \n",
      "=================================================================\n",
      "Total params: 235,146\n",
      "Trainable params: 235,146\n",
      "Non-trainable params: 0\n",
      "_________________________________________________________________\n"
     ]
    }
   ],
   "source": [
    "from tensorflow.keras.layers import Dense\n",
    "\n",
    "network = tf.keras.models.Sequential()\n",
    "network.add(Dense(256, activation = 'relu',input_shape=(28*28,)))\n",
    "network.add(Dense(128, activation = 'relu'))\n",
    "network.add(Dense(10, activation = 'softmax'))\n",
    "\n",
    "network.summary() \n"
   ]
  },
  {
   "cell_type": "markdown",
   "metadata": {
    "id": "fu4Tj35kTsKy"
   },
   "source": [
    "In the following compilation step the optimizer defining the details of the learning process is selected from a set of alternatives provided by Keras. The loss function is selected according to the problem type: categorical cross entropy is the appropriate choice for a classification problem with multiple classes. Finally, the metrics monitored during training are specified."
   ]
  },
  {
   "cell_type": "code",
   "execution_count": 30,
   "metadata": {
    "id": "GpcYSPcXAjdP"
   },
   "outputs": [],
   "source": [
    "network.compile(optimizer = 'rmsprop',\n",
    "               loss = 'categorical_crossentropy',\n",
    "               metrics = ['accuracy'])"
   ]
  },
  {
   "cell_type": "markdown",
   "metadata": {
    "id": "c22ayy3UUlLf"
   },
   "source": [
    "The actual training of the neural network happens next; during this process, the trainable parameters of the model are adjusted so that the loss value (quantifying the difference between the model predictions and the true digit labels) steadily decreases.\n",
    "\n",
    "Here the training lasts for 10 epochs, which means that the entire training set of 60000 samples is processed ten times in batches containing 128 samples."
   ]
  },
  {
   "cell_type": "code",
   "execution_count": 31,
   "metadata": {
    "colab": {
     "base_uri": "https://localhost:8080/"
    },
    "id": "JoNKu2t4AjdQ",
    "outputId": "be9d58e0-ec9e-4b97-90d4-b49621f15252"
   },
   "outputs": [
    {
     "name": "stdout",
     "output_type": "stream",
     "text": [
      "Epoch 1/10\n",
      "469/469 [==============================] - 3s 5ms/step - loss: 0.2609 - accuracy: 0.9231\n",
      "Epoch 2/10\n",
      "469/469 [==============================] - 2s 5ms/step - loss: 0.1000 - accuracy: 0.9697\n",
      "Epoch 3/10\n",
      "469/469 [==============================] - 2s 5ms/step - loss: 0.0673 - accuracy: 0.9789\n",
      "Epoch 4/10\n",
      "469/469 [==============================] - 2s 5ms/step - loss: 0.0484 - accuracy: 0.9853\n",
      "Epoch 5/10\n",
      "469/469 [==============================] - 2s 5ms/step - loss: 0.0371 - accuracy: 0.9884\n",
      "Epoch 6/10\n",
      "469/469 [==============================] - 2s 5ms/step - loss: 0.0285 - accuracy: 0.9910\n",
      "Epoch 7/10\n",
      "469/469 [==============================] - 2s 5ms/step - loss: 0.0232 - accuracy: 0.9924\n",
      "Epoch 8/10\n",
      "469/469 [==============================] - 2s 5ms/step - loss: 0.0184 - accuracy: 0.9942\n",
      "Epoch 9/10\n",
      "469/469 [==============================] - 2s 5ms/step - loss: 0.0142 - accuracy: 0.9954\n",
      "Epoch 10/10\n",
      "469/469 [==============================] - 2s 5ms/step - loss: 0.0127 - accuracy: 0.9960\n"
     ]
    },
    {
     "data": {
      "text/plain": [
       "<keras.callbacks.History at 0x7fcc18717820>"
      ]
     },
     "execution_count": 31,
     "metadata": {},
     "output_type": "execute_result"
    }
   ],
   "source": [
    "network.fit(train_data, train_labels, epochs = 10, batch_size = 128)"
   ]
  },
  {
   "cell_type": "markdown",
   "metadata": {
    "id": "jULS0okXVzKL"
   },
   "source": [
    "Now the model is trained, and is ready for testing; note that the model has not been subjected to the test data at any stage, which is important. The test accuracy is still surprisingly high (not quite as high as the training accuracy), even though the model is extremely simple."
   ]
  },
  {
   "cell_type": "code",
   "execution_count": 32,
   "metadata": {
    "colab": {
     "base_uri": "https://localhost:8080/"
    },
    "id": "6x0tSjyZAjdR",
    "outputId": "c3b74738-859e-4e43-8834-30ff2219cce6"
   },
   "outputs": [
    {
     "name": "stdout",
     "output_type": "stream",
     "text": [
      "313/313 [==============================] - 1s 2ms/step - loss: 0.0933 - accuracy: 0.9797\n",
      "Test accuracy: 0.9797000288963318\n"
     ]
    }
   ],
   "source": [
    "test_loss, test_acc = network.evaluate(test_data, test_labels)\n",
    "print('Test accuracy:', test_acc)"
   ]
  },
  {
   "cell_type": "markdown",
   "metadata": {
    "id": "lGT8mKcx5D6y"
   },
   "source": [
    "Predictions for individual samples can be obtained with the `predict` method of the model. Note that the predictions (like the labels) for each sample are ten-element vectors; the actual prediction is the index with highest numerical value. This index can be found with the NumPy `argmax` function. "
   ]
  },
  {
   "cell_type": "code",
   "execution_count": 33,
   "metadata": {
    "colab": {
     "base_uri": "https://localhost:8080/"
    },
    "id": "CPooR8I6AjdT",
    "outputId": "7cef8f23-07d7-4b18-b6ab-4286811dfc23"
   },
   "outputs": [
    {
     "name": "stdout",
     "output_type": "stream",
     "text": [
      "[4.4665163e-19 2.1885107e-21 1.8695286e-12 1.8943840e-18 8.1939948e-11\n",
      " 9.8537767e-01 1.4622222e-02 6.2273207e-17 1.2506767e-07 2.0788031e-08]\n",
      "Prediction = 5\n",
      "True = 5\n"
     ]
    }
   ],
   "source": [
    "import numpy as np\n",
    "\n",
    "predictions = network.predict(test_data)\n",
    "\n",
    "sample_number = 8\n",
    "print(predictions[sample_number])\n",
    "print('Prediction =',np.argmax(predictions[sample_number]))\n",
    "print('True =',np.argmax(test_labels[sample_number]))"
   ]
  },
  {
   "cell_type": "code",
   "execution_count": 34,
   "metadata": {
    "colab": {
     "base_uri": "https://localhost:8080/",
     "height": 265
    },
    "id": "ijwow8iFfweS",
    "outputId": "9af24d23-c028-44b5-ea1c-de11ee1fa639"
   },
   "outputs": [
    {
     "data": {
      "image/png": "[encoded data removed]",
      "text/plain": [
       "<Figure size 432x288 with 1 Axes>"
      ]
     },
     "metadata": {
      "needs_background": "light"
     },
     "output_type": "display_data"
    }
   ],
   "source": [
    "image = test_images[sample_number]\n",
    "plt.imshow(image, cmap='gray')\n",
    "plt.show()"
   ]
  }
 ],
 "metadata": {
  "colab": {
   "name": "Digit_Classification_Example.ipynb",
   "provenance": []
  },
  "kernelspec": {
   "display_name": "Python 3 (ipykernel)",
   "language": "python",
   "name": "python3"
  },
  "language_info": {
   "codemirror_mode": {
    "name": "ipython",
    "version": 3
   },
   "file_extension": ".py",
   "mimetype": "text/x-python",
   "name": "python",
   "nbconvert_exporter": "python",
   "pygments_lexer": "ipython3",
   "version": "3.9.7"
  }
 },
 "nbformat": 4,
 "nbformat_minor": 1
}
